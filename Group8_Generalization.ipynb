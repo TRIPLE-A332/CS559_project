{
 "cells": [
  {
   "cell_type": "code",
   "execution_count": 420,
   "id": "45da22d4",
   "metadata": {},
   "outputs": [],
   "source": [
    "import pandas as pd\n",
    "from sklearn.ensemble import RandomForestClassifier, GradientBoostingClassifier, StackingClassifier\n",
    "from sklearn.linear_model import LogisticRegression\n",
    "from sklearn.neighbors import KNeighborsClassifier\n",
    "from sklearn.tree import DecisionTreeClassifier\n",
    "from sklearn.svm import SVC\n",
    "from sklearn.metrics import confusion_matrix, classification_report\n",
    "import joblib\n",
    "import pickle"
   ]
  },
  {
   "cell_type": "code",
   "execution_count": 421,
   "id": "0a3428c5",
   "metadata": {},
   "outputs": [
    {
     "name": "stdout",
     "output_type": "stream",
     "text": [
      "test shape (1012, 96)\n",
      "train shape (5314, 99)\n"
     ]
    },
    {
     "data": {
      "text/plain": [
       "(5314, 20)"
      ]
     },
     "execution_count": 421,
     "metadata": {},
     "output_type": "execute_result"
    }
   ],
   "source": [
    "df_test = pd.read_csv('C:/Users/abdul/OneDrive/Documents/GitHub/CS559_project/test_data.csv')\n",
    "df_20f = pd.read_csv('C:/Users/abdul/OneDrive/Documents/GitHub/CS559_project/20_featured_training_data.csv')\n",
    "df_train = pd.read_csv('C:/Users/abdul/OneDrive/Documents/GitHub/CS559_project/Preprocessed_DF.csv')\n",
    "\n",
    "print(\"test shape\" , df_test.shape)\n",
    "print(\"train shape\" , df_train.shape)\n",
    "df_20f.shape"
   ]
  },
  {
   "cell_type": "code",
   "execution_count": 422,
   "id": "153b8873",
   "metadata": {},
   "outputs": [],
   "source": [
    "index = df_train['Index']\n",
    "target = df_train['Bankrupt?']\n",
    "cluster = df_train['Cluster']\n",
    "df_train = df_train.drop(columns=['Index','Bankrupt?','Cluster'])"
   ]
  },
  {
   "cell_type": "code",
   "execution_count": 423,
   "id": "343d8e1a",
   "metadata": {},
   "outputs": [
    {
     "data": {
      "text/html": [
       "<div>\n",
       "<style scoped>\n",
       "    .dataframe tbody tr th:only-of-type {\n",
       "        vertical-align: middle;\n",
       "    }\n",
       "\n",
       "    .dataframe tbody tr th {\n",
       "        vertical-align: top;\n",
       "    }\n",
       "\n",
       "    .dataframe thead th {\n",
       "        text-align: right;\n",
       "    }\n",
       "</style>\n",
       "<table border=\"1\" class=\"dataframe\">\n",
       "  <thead>\n",
       "    <tr style=\"text-align: right;\">\n",
       "      <th></th>\n",
       "      <th>ROA(C) before interest and depreciation before interest</th>\n",
       "      <th>ROA(A) before interest and % after tax</th>\n",
       "      <th>ROA(B) before interest and depreciation after tax</th>\n",
       "      <th>Operating Gross Margin</th>\n",
       "      <th>Realized Sales Gross Margin</th>\n",
       "      <th>Operating Profit Rate</th>\n",
       "      <th>Pre-tax net Interest Rate</th>\n",
       "      <th>After-tax net Interest Rate</th>\n",
       "      <th>Non-industry income and expenditure/revenue</th>\n",
       "      <th>Continuous interest rate (after tax)</th>\n",
       "      <th>...</th>\n",
       "      <th>Net Income to Total Assets</th>\n",
       "      <th>Total assets to GNP price</th>\n",
       "      <th>No-credit Interval</th>\n",
       "      <th>Gross Profit to Sales</th>\n",
       "      <th>Net Income to Stockholder's Equity</th>\n",
       "      <th>Liability to Equity</th>\n",
       "      <th>Degree of Financial Leverage (DFL)</th>\n",
       "      <th>Interest Coverage Ratio (Interest expense to EBIT)</th>\n",
       "      <th>Net Income Flag</th>\n",
       "      <th>Equity to Liability</th>\n",
       "    </tr>\n",
       "  </thead>\n",
       "  <tbody>\n",
       "    <tr>\n",
       "      <th>0</th>\n",
       "      <td>0.414323</td>\n",
       "      <td>0.481029</td>\n",
       "      <td>0.468280</td>\n",
       "      <td>0.609514</td>\n",
       "      <td>0.609514</td>\n",
       "      <td>0.998889</td>\n",
       "      <td>0.797159</td>\n",
       "      <td>0.809132</td>\n",
       "      <td>0.303290</td>\n",
       "      <td>0.781361</td>\n",
       "      <td>...</td>\n",
       "      <td>0.761704</td>\n",
       "      <td>0.001404</td>\n",
       "      <td>0.623973</td>\n",
       "      <td>0.609512</td>\n",
       "      <td>0.838286</td>\n",
       "      <td>0.275450</td>\n",
       "      <td>0.026749</td>\n",
       "      <td>0.564950</td>\n",
       "      <td>1</td>\n",
       "      <td>0.136203</td>\n",
       "    </tr>\n",
       "    <tr>\n",
       "      <th>1</th>\n",
       "      <td>0.497441</td>\n",
       "      <td>0.560892</td>\n",
       "      <td>0.546603</td>\n",
       "      <td>0.610660</td>\n",
       "      <td>0.610660</td>\n",
       "      <td>0.999108</td>\n",
       "      <td>0.797545</td>\n",
       "      <td>0.809431</td>\n",
       "      <td>0.303506</td>\n",
       "      <td>0.781691</td>\n",
       "      <td>...</td>\n",
       "      <td>0.815244</td>\n",
       "      <td>0.004466</td>\n",
       "      <td>0.623724</td>\n",
       "      <td>0.610658</td>\n",
       "      <td>0.842427</td>\n",
       "      <td>0.285886</td>\n",
       "      <td>0.026965</td>\n",
       "      <td>0.565870</td>\n",
       "      <td>1</td>\n",
       "      <td>0.018871</td>\n",
       "    </tr>\n",
       "    <tr>\n",
       "      <th>2</th>\n",
       "      <td>0.501584</td>\n",
       "      <td>0.548899</td>\n",
       "      <td>0.556721</td>\n",
       "      <td>0.606134</td>\n",
       "      <td>0.606134</td>\n",
       "      <td>0.999034</td>\n",
       "      <td>0.797427</td>\n",
       "      <td>0.809370</td>\n",
       "      <td>0.303453</td>\n",
       "      <td>0.781657</td>\n",
       "      <td>...</td>\n",
       "      <td>0.806318</td>\n",
       "      <td>0.000684</td>\n",
       "      <td>0.625387</td>\n",
       "      <td>0.606132</td>\n",
       "      <td>0.840598</td>\n",
       "      <td>0.275816</td>\n",
       "      <td>0.026793</td>\n",
       "      <td>0.565165</td>\n",
       "      <td>1</td>\n",
       "      <td>0.095511</td>\n",
       "    </tr>\n",
       "    <tr>\n",
       "      <th>3</th>\n",
       "      <td>0.574465</td>\n",
       "      <td>0.637375</td>\n",
       "      <td>0.619680</td>\n",
       "      <td>0.600376</td>\n",
       "      <td>0.600376</td>\n",
       "      <td>0.999030</td>\n",
       "      <td>0.797528</td>\n",
       "      <td>0.809426</td>\n",
       "      <td>0.303640</td>\n",
       "      <td>0.781691</td>\n",
       "      <td>...</td>\n",
       "      <td>0.852655</td>\n",
       "      <td>0.001718</td>\n",
       "      <td>0.624151</td>\n",
       "      <td>0.600375</td>\n",
       "      <td>0.844727</td>\n",
       "      <td>0.279977</td>\n",
       "      <td>0.026795</td>\n",
       "      <td>0.565178</td>\n",
       "      <td>1</td>\n",
       "      <td>0.028513</td>\n",
       "    </tr>\n",
       "    <tr>\n",
       "      <th>4</th>\n",
       "      <td>0.393360</td>\n",
       "      <td>0.456444</td>\n",
       "      <td>0.440334</td>\n",
       "      <td>0.600009</td>\n",
       "      <td>0.600009</td>\n",
       "      <td>0.998800</td>\n",
       "      <td>0.797025</td>\n",
       "      <td>0.809000</td>\n",
       "      <td>0.303240</td>\n",
       "      <td>0.781206</td>\n",
       "      <td>...</td>\n",
       "      <td>0.741604</td>\n",
       "      <td>0.002545</td>\n",
       "      <td>0.623612</td>\n",
       "      <td>0.600009</td>\n",
       "      <td>0.835578</td>\n",
       "      <td>0.279901</td>\n",
       "      <td>0.026623</td>\n",
       "      <td>0.564204</td>\n",
       "      <td>1</td>\n",
       "      <td>0.028779</td>\n",
       "    </tr>\n",
       "  </tbody>\n",
       "</table>\n",
       "<p>5 rows × 95 columns</p>\n",
       "</div>"
      ],
      "text/plain": [
       "   ROA(C) before interest and depreciation before interest  \\\n",
       "0                                           0.414323         \n",
       "1                                           0.497441         \n",
       "2                                           0.501584         \n",
       "3                                           0.574465         \n",
       "4                                           0.393360         \n",
       "\n",
       "   ROA(A) before interest and % after tax  \\\n",
       "0                                0.481029   \n",
       "1                                0.560892   \n",
       "2                                0.548899   \n",
       "3                                0.637375   \n",
       "4                                0.456444   \n",
       "\n",
       "   ROA(B) before interest and depreciation after tax  Operating Gross Margin  \\\n",
       "0                                           0.468280                0.609514   \n",
       "1                                           0.546603                0.610660   \n",
       "2                                           0.556721                0.606134   \n",
       "3                                           0.619680                0.600376   \n",
       "4                                           0.440334                0.600009   \n",
       "\n",
       "   Realized Sales Gross Margin  Operating Profit Rate  \\\n",
       "0                     0.609514               0.998889   \n",
       "1                     0.610660               0.999108   \n",
       "2                     0.606134               0.999034   \n",
       "3                     0.600376               0.999030   \n",
       "4                     0.600009               0.998800   \n",
       "\n",
       "   Pre-tax net Interest Rate  After-tax net Interest Rate  \\\n",
       "0                   0.797159                     0.809132   \n",
       "1                   0.797545                     0.809431   \n",
       "2                   0.797427                     0.809370   \n",
       "3                   0.797528                     0.809426   \n",
       "4                   0.797025                     0.809000   \n",
       "\n",
       "   Non-industry income and expenditure/revenue  \\\n",
       "0                                     0.303290   \n",
       "1                                     0.303506   \n",
       "2                                     0.303453   \n",
       "3                                     0.303640   \n",
       "4                                     0.303240   \n",
       "\n",
       "   Continuous interest rate (after tax)  ...  Net Income to Total Assets  \\\n",
       "0                              0.781361  ...                    0.761704   \n",
       "1                              0.781691  ...                    0.815244   \n",
       "2                              0.781657  ...                    0.806318   \n",
       "3                              0.781691  ...                    0.852655   \n",
       "4                              0.781206  ...                    0.741604   \n",
       "\n",
       "   Total assets to GNP price  No-credit Interval  Gross Profit to Sales  \\\n",
       "0                   0.001404            0.623973               0.609512   \n",
       "1                   0.004466            0.623724               0.610658   \n",
       "2                   0.000684            0.625387               0.606132   \n",
       "3                   0.001718            0.624151               0.600375   \n",
       "4                   0.002545            0.623612               0.600009   \n",
       "\n",
       "   Net Income to Stockholder's Equity  Liability to Equity  \\\n",
       "0                            0.838286             0.275450   \n",
       "1                            0.842427             0.285886   \n",
       "2                            0.840598             0.275816   \n",
       "3                            0.844727             0.279977   \n",
       "4                            0.835578             0.279901   \n",
       "\n",
       "   Degree of Financial Leverage (DFL)  \\\n",
       "0                            0.026749   \n",
       "1                            0.026965   \n",
       "2                            0.026793   \n",
       "3                            0.026795   \n",
       "4                            0.026623   \n",
       "\n",
       "   Interest Coverage Ratio (Interest expense to EBIT)  Net Income Flag  \\\n",
       "0                                           0.564950                 1   \n",
       "1                                           0.565870                 1   \n",
       "2                                           0.565165                 1   \n",
       "3                                           0.565178                 1   \n",
       "4                                           0.564204                 1   \n",
       "\n",
       "   Equity to Liability  \n",
       "0             0.136203  \n",
       "1             0.018871  \n",
       "2             0.095511  \n",
       "3             0.028513  \n",
       "4             0.028779  \n",
       "\n",
       "[5 rows x 95 columns]"
      ]
     },
     "execution_count": 423,
     "metadata": {},
     "output_type": "execute_result"
    }
   ],
   "source": [
    "df_test = df_test.drop(columns=['Index'])\n",
    "df_test.head()"
   ]
  },
  {
   "cell_type": "code",
   "execution_count": 424,
   "id": "83b02f54",
   "metadata": {},
   "outputs": [
    {
     "data": {
      "text/plain": [
       "(1012, 78)"
      ]
     },
     "execution_count": 424,
     "metadata": {},
     "output_type": "execute_result"
    }
   ],
   "source": [
    "# Load the high correlation features from the highcorr.pkl file\n",
    "high_corr_features = joblib.load('C:/Users/abdul/OneDrive/Documents/GitHub/CS559_project/high_corr_features.pkl')\n",
    "\n",
    "# Drop the high correlation features from df_test\n",
    "df_test = df_test.drop(columns=high_corr_features)\n",
    "\n",
    "# Display the updated shape of df_test\n",
    "df_test.shape"
   ]
  },
  {
   "cell_type": "code",
   "execution_count": 425,
   "id": "8c274be4",
   "metadata": {},
   "outputs": [
    {
     "data": {
      "text/plain": [
       "array([[-1.49817608, -1.18614059,  0.08897915, ..., -0.02714728,\n",
       "         0.        ,  1.80389297],\n",
       "       [-0.13116919,  0.03045077,  0.15446832, ...,  0.0516525 ,\n",
       "         0.        , -0.58858317],\n",
       "       [-0.06301928, -0.15224554, -0.10419326, ..., -0.00869706,\n",
       "         0.        ,  0.97416941],\n",
       "       ...,\n",
       "       [ 1.23824301,  0.42407827,  0.05602865, ...,  0.01337595,\n",
       "         0.        , -0.28484655],\n",
       "       [-0.75574301, -0.31252004, -0.35091028, ..., -0.0183832 ,\n",
       "         0.        ,  0.01085689],\n",
       "       [-0.04618225, -0.06588002,  0.13222676, ...,  0.0176536 ,\n",
       "         0.        , -0.25599594]])"
      ]
     },
     "execution_count": 425,
     "metadata": {},
     "output_type": "execute_result"
    }
   ],
   "source": [
    "scaler = joblib.load('data_trainin_scaler.pkl')\n",
    "scaler.transform(df_test)"
   ]
  },
  {
   "cell_type": "code",
   "execution_count": null,
   "id": "f4633bf6",
   "metadata": {},
   "outputs": [
    {
     "name": "stdout",
     "output_type": "stream",
     "text": [
      "(1012, 20)\n"
     ]
    },
    {
     "data": {
      "text/plain": [
       "(5314, 20)"
      ]
     },
     "execution_count": 426,
     "metadata": {},
     "output_type": "execute_result"
    }
   ],
   "source": [
    "from sklearn.model_selection import train_test_split\n",
    "\n",
    "# Load the features from the df_02.pkl file\n",
    "final_features = joblib.load('final_columns.pkl')\n",
    "\n",
    "# Load the scaler\n",
    "scaler = joblib.load('data_trainin_scaler.pkl')\n",
    "\n",
    "# Keep only the features present in df_02.pkl in df_test\n",
    "df_test = df_test[df_20f.columns]\n",
    "df_train = df_train[df_20f.columns]\n",
    "\n",
    "print(df_test.shape)\n",
    "df_train.shape"
   ]
  },
  {
   "cell_type": "code",
   "execution_count": 427,
   "id": "6bfb5861",
   "metadata": {},
   "outputs": [
    {
     "name": "stdout",
     "output_type": "stream",
     "text": [
      "Training set shape: (3719, 20), Validation set shape: (1595, 20)\n"
     ]
    }
   ],
   "source": [
    "# Split df_train and target into training and validation sets\n",
    "X_train, X_val, y_train, y_val = train_test_split(df_train, target, test_size=0.3, random_state=42)\n",
    "\n",
    "print(f\"Training set shape: {X_train.shape}, Validation set shape: {X_val.shape}\")"
   ]
  },
  {
   "cell_type": "code",
   "execution_count": 428,
   "id": "2dd8b9fb",
   "metadata": {},
   "outputs": [
    {
     "name": "stdout",
     "output_type": "stream",
     "text": [
      "Number of bankrupt companies in validation data: 42\n",
      "Number of bankrupt companies in training data: 109\n"
     ]
    }
   ],
   "source": [
    "# Number of bankrupt companies in validation data\n",
    "num_bankrupt_in_val = (y_val == 1).sum()\n",
    "print(f\"Number of bankrupt companies in validation data: {num_bankrupt_in_val}\")\n",
    "\n",
    "# Number of bankrupt companies in training data\n",
    "num_bankrupt_in_train = (y_train == 1).sum()\n",
    "print(f\"Number of bankrupt companies in training data: {num_bankrupt_in_train}\")\n"
   ]
  },
  {
   "cell_type": "code",
   "execution_count": 429,
   "id": "0a24e87b",
   "metadata": {},
   "outputs": [
    {
     "name": "stdout",
     "output_type": "stream",
     "text": [
      "\n",
      "rf - TT: 109, TF: 0, Accuracy (acc) for bankrupt companies: 1.0000\n"
     ]
    },
    {
     "name": "stderr",
     "output_type": "stream",
     "text": [
      "c:\\Users\\abdul\\anaconda3\\Lib\\site-packages\\xgboost\\training.py:183: UserWarning: [14:06:10] WARNING: C:\\actions-runner\\_work\\xgboost\\xgboost\\src\\learner.cc:738: \n",
      "Parameters: { \"use_label_encoder\" } are not used.\n",
      "\n",
      "  bst.update(dtrain, iteration=i, fobj=obj)\n"
     ]
    },
    {
     "name": "stdout",
     "output_type": "stream",
     "text": [
      "\n",
      "xgb - TT: 109, TF: 0, Accuracy (acc) for bankrupt companies: 1.0000\n",
      "\n",
      "dt - TT: 109, TF: 0, Accuracy (acc) for bankrupt companies: 1.0000\n"
     ]
    },
    {
     "name": "stderr",
     "output_type": "stream",
     "text": [
      "c:\\Users\\abdul\\anaconda3\\Lib\\site-packages\\xgboost\\training.py:183: UserWarning: [14:06:12] WARNING: C:\\actions-runner\\_work\\xgboost\\xgboost\\src\\learner.cc:738: \n",
      "Parameters: { \"use_label_encoder\" } are not used.\n",
      "\n",
      "  bst.update(dtrain, iteration=i, fobj=obj)\n",
      "c:\\Users\\abdul\\anaconda3\\Lib\\site-packages\\xgboost\\training.py:183: UserWarning: [14:06:16] WARNING: C:\\actions-runner\\_work\\xgboost\\xgboost\\src\\learner.cc:738: \n",
      "Parameters: { \"use_label_encoder\" } are not used.\n",
      "\n",
      "  bst.update(dtrain, iteration=i, fobj=obj)\n",
      "c:\\Users\\abdul\\anaconda3\\Lib\\site-packages\\xgboost\\training.py:183: UserWarning: [14:06:17] WARNING: C:\\actions-runner\\_work\\xgboost\\xgboost\\src\\learner.cc:738: \n",
      "Parameters: { \"use_label_encoder\" } are not used.\n",
      "\n",
      "  bst.update(dtrain, iteration=i, fobj=obj)\n",
      "c:\\Users\\abdul\\anaconda3\\Lib\\site-packages\\xgboost\\training.py:183: UserWarning: [14:06:17] WARNING: C:\\actions-runner\\_work\\xgboost\\xgboost\\src\\learner.cc:738: \n",
      "Parameters: { \"use_label_encoder\" } are not used.\n",
      "\n",
      "  bst.update(dtrain, iteration=i, fobj=obj)\n",
      "c:\\Users\\abdul\\anaconda3\\Lib\\site-packages\\xgboost\\training.py:183: UserWarning: [14:06:17] WARNING: C:\\actions-runner\\_work\\xgboost\\xgboost\\src\\learner.cc:738: \n",
      "Parameters: { \"use_label_encoder\" } are not used.\n",
      "\n",
      "  bst.update(dtrain, iteration=i, fobj=obj)\n",
      "c:\\Users\\abdul\\anaconda3\\Lib\\site-packages\\xgboost\\training.py:183: UserWarning: [14:06:17] WARNING: C:\\actions-runner\\_work\\xgboost\\xgboost\\src\\learner.cc:738: \n",
      "Parameters: { \"use_label_encoder\" } are not used.\n",
      "\n",
      "  bst.update(dtrain, iteration=i, fobj=obj)\n"
     ]
    },
    {
     "name": "stdout",
     "output_type": "stream",
     "text": [
      "\n",
      "Meta model - TT: 77, TF: 32, Accuracy (acc) for bankrupt companies: 0.7064\n",
      "Validation accuracy: 0.976\n"
     ]
    }
   ],
   "source": [
    "from sklearn.neighbors import KNeighborsClassifier\n",
    "from sklearn.ensemble import BaggingClassifier\n",
    "from sklearn.linear_model import RidgeClassifier\n",
    "from xgboost import XGBClassifier\n",
    "from sklearn.neural_network import MLPClassifier\n",
    "from sklearn.model_selection import GridSearchCV\n",
    "\n",
    "\n",
    "\n",
    "base_models = [\n",
    "    ('rf', RandomForestClassifier(random_state=42)),\n",
    "    ('xgb', XGBClassifier(use_label_encoder=False, eval_metric='logloss', random_state=42)),\n",
    "    ('dt', DecisionTreeClassifier(class_weight='balanced', random_state=42)),\n",
    "]\n",
    "\n",
    "meta_model = GradientBoostingClassifier(random_state=42)\n",
    "\n",
    "\n",
    "# Update stacked_model with the best estimator from grid search\n",
    "stacked_model = StackingClassifier(estimators=base_models, final_estimator=meta_model, cv=5)\n",
    "\n",
    "# Fit each base model on the training data\n",
    "for name, model in base_models:\n",
    "    model.fit(X_train, y_train)\n",
    "    y_pred_base = model.predict(X_train)\n",
    "    cm_base = confusion_matrix(y_train, y_pred_base)\n",
    "    TT_base = cm_base[1, 1]\n",
    "    TF_base = cm_base[1, 0]\n",
    "    acc_base = TT_base / (TT_base + TF_base) if (TT_base + TF_base) > 0 else 0\n",
    "    print(f\"\\n{name} - TT: {TT_base}, TF: {TF_base}, Accuracy (acc) for bankrupt companies: {acc_base:.4f}\")\n",
    "\n",
    "# Fit the stacked model on the training data\n",
    "stacked_model.fit(X_train, y_train)\n",
    "\n",
    "# For meta model\n",
    "y_pred_meta = stacked_model.predict(X_train)\n",
    "cm_meta = confusion_matrix(y_train, y_pred_meta)\n",
    "TT_meta = cm_meta[1, 1]\n",
    "TF_meta = cm_meta[1, 0]\n",
    "acc_meta = TT_meta / (TT_meta + TF_meta) if (TT_meta + TF_meta) > 0 else 0\n",
    "print(f\"\\nMeta model - TT: {TT_meta}, TF: {TF_meta}, Accuracy (acc) for bankrupt companies: {acc_meta:.4f}\")\n",
    "\n",
    "# Evaluate the model on the validation set\n",
    "validation_score = stacked_model.score(X_val, y_val)\n",
    "print(f'Validation accuracy: {round(validation_score, 3)}')"
   ]
  },
  {
   "cell_type": "code",
   "execution_count": 430,
   "id": "7bfa6395",
   "metadata": {},
   "outputs": [
    {
     "name": "stdout",
     "output_type": "stream",
     "text": [
      "Validation accuracy: 0.976\n",
      "Confusion Matrix:\n",
      "[[1547    6]\n",
      " [  32   10]]\n",
      "\n",
      "Classification Report:\n",
      "              precision    recall  f1-score   support\n",
      "\n",
      "           0       0.98      1.00      0.99      1553\n",
      "           1       0.62      0.24      0.34        42\n",
      "\n",
      "    accuracy                           0.98      1595\n",
      "   macro avg       0.80      0.62      0.67      1595\n",
      "weighted avg       0.97      0.98      0.97      1595\n",
      "\n"
     ]
    }
   ],
   "source": [
    "from sklearn.metrics import confusion_matrix, classification_report\n",
    "\n",
    "# Print accuracy\n",
    "print(f'Validation accuracy: {round(validation_score, 3)}')\n",
    "\n",
    "# Generate predictions for the validation set\n",
    "y_val_preds = stacked_model.predict(X_val)\n",
    "\n",
    "# Print confusion matrix\n",
    "print(\"Confusion Matrix:\")\n",
    "print(confusion_matrix(y_val, y_val_preds))\n",
    "\n",
    "# Print classification report\n",
    "print(\"\\nClassification Report:\")\n",
    "print(classification_report(y_val, y_val_preds))"
   ]
  },
  {
   "cell_type": "code",
   "execution_count": 431,
   "id": "e2f7e928",
   "metadata": {},
   "outputs": [],
   "source": [
    "pred = stacked_model.predict(df_test)"
   ]
  },
  {
   "cell_type": "code",
   "execution_count": 432,
   "id": "104166b3",
   "metadata": {},
   "outputs": [
    {
     "name": "stdout",
     "output_type": "stream",
     "text": [
      "Predicted values: [0 0 0 ... 0 0 0]\n",
      "Counts of predicted values: Counter({0: 997, 1: 15})\n"
     ]
    }
   ],
   "source": [
    "from collections import Counter\n",
    "\n",
    "# Print the predicted values\n",
    "print(\"Predicted values:\", pred)\n",
    "\n",
    "# Print the counts of each predicted value\n",
    "predicted_counts = Counter(pred)\n",
    "print(\"Counts of predicted values:\", predicted_counts)"
   ]
  },
  {
   "cell_type": "code",
   "execution_count": null,
   "id": "c7f2da1f",
   "metadata": {},
   "outputs": [
    {
     "name": "stdout",
     "output_type": "stream",
     "text": [
      "Indices in test data where y_pred = 1:\n",
      "[5, 64, 65, 91, 216, 233, 377, 433, 462, 503, 527, 758, 828, 919, 970]\n"
     ]
    }
   ],
   "source": [
    "# Indices of rows in the test data where y_pred equals 1\n",
    "indices_y_test_1 = [i for i, pred in enumerate(pred) if pred == 1]\n",
    "print(\"Indices in test data where y_pred = 1:\")\n",
    "print(indices_y_test_1)"
   ]
  }
 ],
 "metadata": {
  "kernelspec": {
   "display_name": "base",
   "language": "python",
   "name": "python3"
  },
  "language_info": {
   "codemirror_mode": {
    "name": "ipython",
    "version": 3
   },
   "file_extension": ".py",
   "mimetype": "text/x-python",
   "name": "python",
   "nbconvert_exporter": "python",
   "pygments_lexer": "ipython3",
   "version": "3.12.7"
  }
 },
 "nbformat": 4,
 "nbformat_minor": 5
}
