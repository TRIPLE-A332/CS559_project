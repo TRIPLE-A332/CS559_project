{
 "cells": [
  {
   "cell_type": "code",
   "execution_count": 30,
   "id": "8aa11701",
   "metadata": {},
   "outputs": [],
   "source": [
    "import pandas as pd\n",
    "import numpy as np\n",
    "from sklearn.pipeline import Pipeline\n",
    "import nbimporter\n",
    "import sys\n",
    "from AliAbdullahAhmad_SubGroup2 import FeatureSelector2\n",
    "from AliAbdullahAhmad_SubGroup5 import FeatureSelector5\n",
    "from OzzieKellyYuoh_Subgroup7 import FeatureSelector7\n",
    "from Jiawei_subgroup_1_ import FeatureSelector1\n",
    "from ArpitPatil_SubGroup4 import FeatureSelector\n",
    "import joblib\n",
    "from collections import Counter"
   ]
  },
  {
   "cell_type": "code",
   "execution_count": 31,
   "id": "59021221",
   "metadata": {},
   "outputs": [],
   "source": [
    "df = pd.read_csv('test_data.csv')\n",
    "X = df.drop(columns=['Index'])"
   ]
  },
  {
   "cell_type": "code",
   "execution_count": 32,
   "id": "0c48ace1",
   "metadata": {},
   "outputs": [],
   "source": [
    "model_1 = joblib.load(\"subgroup_1_model.pkl\")\n",
    "model_2 = joblib.load(\"subgroup_2_model.pkl\")\n",
    "model_4 = joblib.load(\"subgroup_4_model.pkl\")\n",
    "model_5 = joblib.load(\"subgroup_5_model.pkl\")\n",
    "model_7 = joblib.load(\"subgroup_7_model.pkl\")\n",
    "\n",
    "models = [ model_2,model_4, model_5, model_7]\n",
    "\n",
    "predictions = []\n",
    "for model in models:\n",
    "    preds = model.predict(X)\n",
    "    predictions.append(preds)\n",
    "\n",
    "predictions = np.array(predictions)  # shape: (n_models, n_samples)\n",
    "predictions = predictions.T     \n",
    "\n",
    "# Majority vote\n",
    "final_preds = [Counter(row).most_common(1)[0][0] for row in predictions]\n",
    "\n",
    "# Create submission DataFrame\n",
    "submission = pd.DataFrame({\n",
    "    'Index': df['Index'],\n",
    "    'Bankrupt?': final_preds\n",
    "})"
   ]
  },
  {
   "cell_type": "code",
   "execution_count": 33,
   "id": "9b0e3f61",
   "metadata": {},
   "outputs": [
    {
     "name": "stdout",
     "output_type": "stream",
     "text": [
      "35\n",
      "Count of 1s: 35\n",
      "Indices of 1s: [32, 65, 91, 209, 216, 233, 283, 309, 311, 313, 369, 393, 492, 508, 517, 527, 536, 538, 539, 580, 590, 598, 627, 666, 681, 758, 766, 769, 778, 783, 807, 828, 919, 962, 970]\n"
     ]
    }
   ],
   "source": [
    "print(final_preds.count(1))\n",
    "\n",
    "indices = [i for i, val in enumerate(final_preds) if val == 1]\n",
    "print(f\"Count of 1s: {len(indices)}\")\n",
    "print(f\"Indices of 1s: {indices}\")"
   ]
  },
  {
   "cell_type": "code",
   "execution_count": 34,
   "id": "16993bd3",
   "metadata": {},
   "outputs": [
    {
     "data": {
      "text/plain": [
       "(1012, 2)"
      ]
     },
     "execution_count": 34,
     "metadata": {},
     "output_type": "execute_result"
    }
   ],
   "source": [
    "submission.to_csv('final_submission.csv', index=False)\n",
    "df_tatta =pd.read_csv('final_submission.csv')\n",
    "df_tatta.shape"
   ]
  }
 ],
 "metadata": {
  "kernelspec": {
   "display_name": "base",
   "language": "python",
   "name": "python3"
  },
  "language_info": {
   "codemirror_mode": {
    "name": "ipython",
    "version": 3
   },
   "file_extension": ".py",
   "mimetype": "text/x-python",
   "name": "python",
   "nbconvert_exporter": "python",
   "pygments_lexer": "ipython3",
   "version": "3.12.7"
  }
 },
 "nbformat": 4,
 "nbformat_minor": 5
}
